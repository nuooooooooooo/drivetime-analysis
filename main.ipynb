{
 "cells": [
  {
   "cell_type": "code",
   "execution_count": 21,
   "metadata": {},
   "outputs": [
    {
     "data": {
      "text/plain": [
       "True"
      ]
     },
     "execution_count": 21,
     "metadata": {},
     "output_type": "execute_result"
    }
   ],
   "source": [
    "import pandas as pd\n",
    "import geojson\n",
    "import openrouteservice\n",
    "import time\n",
    "import os\n",
    "import folium\n",
    "import json\n",
    "\n",
    "import os\n",
    "from dotenv import load_dotenv\n",
    "load_dotenv('.env')"
   ]
  },
  {
   "cell_type": "code",
   "execution_count": 22,
   "metadata": {},
   "outputs": [],
   "source": [
    "# authentication OpenRouteService\n",
    "secret = os.getenv(\"ORS_SECRET\")\n",
    "ors = openrouteservice.Client(key=secret)"
   ]
  },
  {
   "cell_type": "code",
   "execution_count": 36,
   "metadata": {},
   "outputs": [],
   "source": [
    "# load CSV\n",
    "poi = pd.read_csv('./dummy/poi.csv')\n",
    "\n",
    "posters = pd.read_csv('./dummy/p.csv')\n",
    "\n"
   ]
  },
  {
   "cell_type": "code",
   "execution_count": 37,
   "metadata": {},
   "outputs": [
    {
     "data": {
      "text/plain": [
       "[[4.4158472, 51.2452363]]"
      ]
     },
     "execution_count": 37,
     "metadata": {},
     "output_type": "execute_result"
    }
   ],
   "source": [
    "# extract coords\n",
    "poi_coords = poi[[\"longitude\", 'latitude']].values.tolist()\n",
    "poster_coords= posters[[\"longitude\",'latitude']].values.todict()"
   ]
  },
  {
   "cell_type": "code",
   "execution_count": 27,
   "metadata": {},
   "outputs": [],
   "source": [
    "# make geojson files for each pair of coords\n",
    "# for item in poi_coords:\n",
    "   \n",
    "#     isochrone = ors.isochrones(locations=[item], range=[600])\n",
    "#     with open('./dummy/test_geo.geojson', 'w') as f:\n",
    "#         json.dump(isochrone, f, ensure_ascii=False,indent=4)"
   ]
  },
  {
   "cell_type": "code",
   "execution_count": 28,
   "metadata": {},
   "outputs": [
    {
     "data": {
      "text/plain": [
       "True"
      ]
     },
     "execution_count": 28,
     "metadata": {},
     "output_type": "execute_result"
    }
   ],
   "source": [
    "# load geojson file into the program and check that it is a valid object\n",
    "with open('./dummy/test_geo.geojson', 'r') as f:\n",
    "    gj = geojson.load(f)\n",
    "\n",
    "gj.is_valid"
   ]
  },
  {
   "cell_type": "code",
   "execution_count": 29,
   "metadata": {},
   "outputs": [],
   "source": [
    "# reverse coords for use in folium\n",
    "for item in poi_coords:\n",
    "    item.reverse()"
   ]
  },
  {
   "cell_type": "code",
   "execution_count": 6,
   "metadata": {},
   "outputs": [
    {
     "data": {
      "text/plain": [
       "[[51.2452363, 4.4158472],\n",
       " [51.2186918, 4.4055072],\n",
       " [50.8141563, 4.4257236],\n",
       " [50.8598131, 5.5003105],\n",
       " [51.2085548, 3.2240359]]"
      ]
     },
     "execution_count": 6,
     "metadata": {},
     "output_type": "execute_result"
    }
   ],
   "source": [
    "poi_coords"
   ]
  },
  {
   "cell_type": "code",
   "execution_count": 34,
   "metadata": {},
   "outputs": [
    {
     "data": {
      "text/html": [
       "<div style=\"width:100%;\"><div style=\"position:relative;width:100%;height:0;padding-bottom:60%;\"><span style=\"color:#565656\">Make this Notebook Trusted to load map: File -> Trust Notebook</span><iframe srcdoc=\"&lt;!DOCTYPE html&gt;\n",
       "&lt;html&gt;\n",
       "&lt;head&gt;\n",
       "    \n",
       "    &lt;meta http-equiv=&quot;content-type&quot; content=&quot;text/html; charset=UTF-8&quot; /&gt;\n",
       "    \n",
       "        &lt;script&gt;\n",
       "            L_NO_TOUCH = false;\n",
       "            L_DISABLE_3D = false;\n",
       "        &lt;/script&gt;\n",
       "    \n",
       "    &lt;style&gt;html, body {width: 100%;height: 100%;margin: 0;padding: 0;}&lt;/style&gt;\n",
       "    &lt;style&gt;#map {position:absolute;top:0;bottom:0;right:0;left:0;}&lt;/style&gt;\n",
       "    &lt;script src=&quot;https://cdn.jsdelivr.net/npm/leaflet@1.9.3/dist/leaflet.js&quot;&gt;&lt;/script&gt;\n",
       "    &lt;script src=&quot;https://code.jquery.com/jquery-1.12.4.min.js&quot;&gt;&lt;/script&gt;\n",
       "    &lt;script src=&quot;https://cdn.jsdelivr.net/npm/bootstrap@5.2.2/dist/js/bootstrap.bundle.min.js&quot;&gt;&lt;/script&gt;\n",
       "    &lt;script src=&quot;https://cdnjs.cloudflare.com/ajax/libs/Leaflet.awesome-markers/2.0.2/leaflet.awesome-markers.js&quot;&gt;&lt;/script&gt;\n",
       "    &lt;link rel=&quot;stylesheet&quot; href=&quot;https://cdn.jsdelivr.net/npm/leaflet@1.9.3/dist/leaflet.css&quot;/&gt;\n",
       "    &lt;link rel=&quot;stylesheet&quot; href=&quot;https://cdn.jsdelivr.net/npm/bootstrap@5.2.2/dist/css/bootstrap.min.css&quot;/&gt;\n",
       "    &lt;link rel=&quot;stylesheet&quot; href=&quot;https://netdna.bootstrapcdn.com/bootstrap/3.0.0/css/bootstrap.min.css&quot;/&gt;\n",
       "    &lt;link rel=&quot;stylesheet&quot; href=&quot;https://cdn.jsdelivr.net/npm/@fortawesome/fontawesome-free@6.2.0/css/all.min.css&quot;/&gt;\n",
       "    &lt;link rel=&quot;stylesheet&quot; href=&quot;https://cdnjs.cloudflare.com/ajax/libs/Leaflet.awesome-markers/2.0.2/leaflet.awesome-markers.css&quot;/&gt;\n",
       "    &lt;link rel=&quot;stylesheet&quot; href=&quot;https://cdn.jsdelivr.net/gh/python-visualization/folium/folium/templates/leaflet.awesome.rotate.min.css&quot;/&gt;\n",
       "    \n",
       "            &lt;meta name=&quot;viewport&quot; content=&quot;width=device-width,\n",
       "                initial-scale=1.0, maximum-scale=1.0, user-scalable=no&quot; /&gt;\n",
       "            &lt;style&gt;\n",
       "                #map_1deb550588b04e330c4a994ab3b2b837 {\n",
       "                    position: relative;\n",
       "                    width: 100.0%;\n",
       "                    height: 100.0%;\n",
       "                    left: 0.0%;\n",
       "                    top: 0.0%;\n",
       "                }\n",
       "                .leaflet-container { font-size: 1rem; }\n",
       "            &lt;/style&gt;\n",
       "        \n",
       "&lt;/head&gt;\n",
       "&lt;body&gt;\n",
       "    \n",
       "    \n",
       "            &lt;div class=&quot;folium-map&quot; id=&quot;map_1deb550588b04e330c4a994ab3b2b837&quot; &gt;&lt;/div&gt;\n",
       "        \n",
       "&lt;/body&gt;\n",
       "&lt;script&gt;\n",
       "    \n",
       "    \n",
       "            var map_1deb550588b04e330c4a994ab3b2b837 = L.map(\n",
       "                &quot;map_1deb550588b04e330c4a994ab3b2b837&quot;,\n",
       "                {\n",
       "                    center: [51.2452363, 4.4158472],\n",
       "                    crs: L.CRS.EPSG3857,\n",
       "                    zoom: 10,\n",
       "                    zoomControl: true,\n",
       "                    preferCanvas: false,\n",
       "                }\n",
       "            );\n",
       "\n",
       "            \n",
       "\n",
       "        \n",
       "    \n",
       "            var tile_layer_44222eee96e842adfd23007ffa5f9fb9 = L.tileLayer(\n",
       "                &quot;https://cartodb-basemaps-{s}.global.ssl.fastly.net/light_all/{z}/{x}/{y}.png&quot;,\n",
       "                {&quot;attribution&quot;: &quot;\\u0026copy; \\u003ca target=\\&quot;_blank\\&quot; href=\\&quot;http://www.openstreetmap.org/copyright\\&quot;\\u003eOpenStreetMap\\u003c/a\\u003e contributors \\u0026copy; \\u003ca target=\\&quot;_blank\\&quot; href=\\&quot;http://cartodb.com/attributions\\&quot;\\u003eCartoDB\\u003c/a\\u003e, CartoDB \\u003ca target=\\&quot;_blank\\&quot; href =\\&quot;http://cartodb.com/attributions\\&quot;\\u003eattributions\\u003c/a\\u003e&quot;, &quot;detectRetina&quot;: false, &quot;maxNativeZoom&quot;: 18, &quot;maxZoom&quot;: 18, &quot;minZoom&quot;: 11, &quot;noWrap&quot;: false, &quot;opacity&quot;: 1, &quot;subdomains&quot;: &quot;abc&quot;, &quot;tms&quot;: false}\n",
       "            ).addTo(map_1deb550588b04e330c4a994ab3b2b837);\n",
       "        \n",
       "    \n",
       "            var marker_bd15a0e8daca92a7c0c344667f1428da = L.marker(\n",
       "                [51.2452363, 4.4158472],\n",
       "                {}\n",
       "            ).addTo(map_1deb550588b04e330c4a994ab3b2b837);\n",
       "        \n",
       "    \n",
       "\n",
       "        function geo_json_ef36c7c63ad0a3c476418bf2c63bda28_onEachFeature(feature, layer) {\n",
       "            layer.on({\n",
       "            });\n",
       "        };\n",
       "        var geo_json_ef36c7c63ad0a3c476418bf2c63bda28 = L.geoJson(null, {\n",
       "                onEachFeature: geo_json_ef36c7c63ad0a3c476418bf2c63bda28_onEachFeature,\n",
       "            \n",
       "        });\n",
       "\n",
       "        function geo_json_ef36c7c63ad0a3c476418bf2c63bda28_add (data) {\n",
       "            geo_json_ef36c7c63ad0a3c476418bf2c63bda28\n",
       "                .addData(data)\n",
       "                .addTo(map_1deb550588b04e330c4a994ab3b2b837);\n",
       "        }\n",
       "            geo_json_ef36c7c63ad0a3c476418bf2c63bda28_add({&quot;bbox&quot;: [4.339824, 51.181978, 4.502609, 51.29985], &quot;features&quot;: [{&quot;geometry&quot;: {&quot;coordinates&quot;: [[[4.339824, 51.248737], [4.340451, 51.248408], [4.343983, 51.246483], [4.346526, 51.245097], [4.352176, 51.242434], [4.352568, 51.242262], [4.35402, 51.241756], [4.359701, 51.242208], [4.364392, 51.242165], [4.373556, 51.242078], [4.377583, 51.240024], [4.378325, 51.240062], [4.383114, 51.241965], [4.385685, 51.242194], [4.389668, 51.241654], [4.393454, 51.241068], [4.396203, 51.240497], [4.395849, 51.228925], [4.391844, 51.228999], [4.388357, 51.229045], [4.38487, 51.22909], [4.384865, 51.22909], [4.383945, 51.2291], [4.383907, 51.225501], [4.392369, 51.21758], [4.393633, 51.215162], [4.393943, 51.215045], [4.395309, 51.215502], [4.403291, 51.218089], [4.405392, 51.218239], [4.415057, 51.21493], [4.420493, 51.208673], [4.415214, 51.200288], [4.410469, 51.194409], [4.403821, 51.19385], [4.400582, 51.194868], [4.39705, 51.196159], [4.394379, 51.197193], [4.38989, 51.198751], [4.389512, 51.198875], [4.38893, 51.199031], [4.387752, 51.195854], [4.393372, 51.186179], [4.394621, 51.182803], [4.395349, 51.183072], [4.397546, 51.183841], [4.4001, 51.184702], [4.403526, 51.187253], [4.414739, 51.183437], [4.41549, 51.181978], [4.422284, 51.184281], [4.428505, 51.184217], [4.429894, 51.18486], [4.431002, 51.18681], [4.436723, 51.19635], [4.442992, 51.201211], [4.450302, 51.203705], [4.451791, 51.204536], [4.459023, 51.207546], [4.466618, 51.20882], [4.470008, 51.209085], [4.479796, 51.208997], [4.483087, 51.208657], [4.488913, 51.208945], [4.48932, 51.208964], [4.490159, 51.209006], [4.501076, 51.209692], [4.502609, 51.209734], [4.502511, 51.213332], [4.500978, 51.213291], [4.498536, 51.213232], [4.49456, 51.213122], [4.489977, 51.212602], [4.489139, 51.212559], [4.488746, 51.212541], [4.483026, 51.212256], [4.480366, 51.212552], [4.474842, 51.213248], [4.47212, 51.213034], [4.469485, 51.212647], [4.46661, 51.21242], [4.46073, 51.21518], [4.459541, 51.224417], [4.464169, 51.231777], [4.463635, 51.235337], [4.468911, 51.244679], [4.476337, 51.247956], [4.475876, 51.251526], [4.475499, 51.251478], [4.473851, 51.251464], [4.466785, 51.260577], [4.471198, 51.265933], [4.471665, 51.269503], [4.470003, 51.26972], [4.465649, 51.270096], [4.458939, 51.269558], [4.452216, 51.269354], [4.449543, 51.269124], [4.444317, 51.266477], [4.441619, 51.265761], [4.437696, 51.265876], [4.428031, 51.265189], [4.425859, 51.276569], [4.426814, 51.277295], [4.430532, 51.278713], [4.431822, 51.280799], [4.432142, 51.281933], [4.432097, 51.281955], [4.426235, 51.282114], [4.420727, 51.282868], [4.415909, 51.290284], [4.407211, 51.294373], [4.405097, 51.295868], [4.4022, 51.297325], [4.401045, 51.297793], [4.398088, 51.298822], [4.395132, 51.29985], [4.393949, 51.29645], [4.396905, 51.295422], [4.399862, 51.294393], [4.402737, 51.29308], [4.405024, 51.291513], [4.401478, 51.280347], [4.401138, 51.280041], [4.393282, 51.275315], [4.386895, 51.277749], [4.383297, 51.27787], [4.37324, 51.272193], [4.363287, 51.267636], [4.362708, 51.266841], [4.361808, 51.264354], [4.362771, 51.26392], [4.363557, 51.263686], [4.370704, 51.256147], [4.369135, 51.246815], [4.364426, 51.245765], [4.359726, 51.245808], [4.353689, 51.2457], [4.348248, 51.248259], [4.345705, 51.249644], [4.342555, 51.25136], [4.342125, 51.251595], [4.341498, 51.251924], [4.340297, 51.251565], [4.339971, 51.251229], [4.339896, 51.251148], [4.339824, 51.248737]]], &quot;type&quot;: &quot;Polygon&quot;}, &quot;properties&quot;: {&quot;center&quot;: [4.416182687881839, 51.2452021532533], &quot;group_index&quot;: 0, &quot;value&quot;: 600.0}, &quot;type&quot;: &quot;Feature&quot;}], &quot;metadata&quot;: {&quot;attribution&quot;: &quot;openrouteservice.org | OpenStreetMap contributors&quot;, &quot;engine&quot;: {&quot;build_date&quot;: &quot;2022-10-21T14:34:31Z&quot;, &quot;graph_date&quot;: &quot;2022-12-29T21:41:22Z&quot;, &quot;version&quot;: &quot;6.8.0&quot;}, &quot;query&quot;: {&quot;locations&quot;: [[4.4158472, 51.2452363]], &quot;profile&quot;: &quot;driving-car&quot;, &quot;range&quot;: [600.0], &quot;range_type&quot;: &quot;time&quot;}, &quot;service&quot;: &quot;isochrones&quot;, &quot;timestamp&quot;: 1673723110920}, &quot;type&quot;: &quot;FeatureCollection&quot;});\n",
       "\n",
       "        \n",
       "&lt;/script&gt;\n",
       "&lt;/html&gt;\" style=\"position:absolute;width:100%;height:100%;left:0;top:0;border:none !important;\" allowfullscreen webkitallowfullscreen mozallowfullscreen></iframe></div></div>"
      ],
      "text/plain": [
       "<folium.folium.Map at 0x12419e0e0>"
      ]
     },
     "execution_count": 34,
     "metadata": {},
     "output_type": "execute_result"
    }
   ],
   "source": [
    "map = folium.Map(location=(poi_coords[0]), tiles=\"cartodbpositron\", min_zoom=11)\n",
    "\n",
    "folium.Marker(poi_coords[0]).add_to(map)\n",
    "\n",
    "folium.features.GeoJson(gj).add_to(map)\n",
    "\n",
    "map"
   ]
  },
  {
   "cell_type": "code",
   "execution_count": null,
   "metadata": {},
   "outputs": [],
   "source": []
  }
 ],
 "metadata": {
  "kernelspec": {
   "display_name": "Python 3.10.7 64-bit",
   "language": "python",
   "name": "python3"
  },
  "language_info": {
   "codemirror_mode": {
    "name": "ipython",
    "version": 3
   },
   "file_extension": ".py",
   "mimetype": "text/x-python",
   "name": "python",
   "nbconvert_exporter": "python",
   "pygments_lexer": "ipython3",
   "version": "3.10.7"
  },
  "orig_nbformat": 4,
  "vscode": {
   "interpreter": {
    "hash": "b0fa6594d8f4cbf19f97940f81e996739fb7646882a419484c72d19e05852a7e"
   }
  }
 },
 "nbformat": 4,
 "nbformat_minor": 2
}
