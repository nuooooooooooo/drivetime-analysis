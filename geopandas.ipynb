{
 "cells": [
  {
   "cell_type": "code",
   "execution_count": null,
   "metadata": {},
   "outputs": [],
   "source": [
    "from shapely.geometry import Point, Polygon\n",
    "import geopandas as gpd\n",
    "import pandas as pd\n",
    "import folium\n",
    "import geojson\n",
    "import uuid"
   ]
  },
  {
   "cell_type": "code",
   "execution_count": null,
   "metadata": {},
   "outputs": [],
   "source": [
    "posters = pd.read_csv('./dummy/p.csv')\n",
    "\n",
    "posters['id'] = posters['id'].apply(lambda x : 'P' + str(x))\n",
    "\n",
    "posters = posters.set_index('id')\n",
    "\n",
    "geometry = [Point(lon,lat) for lon, lat in zip(posters['longitude'], posters['latitude'] )]\n",
    "\n",
    "posters_gdf = gpd.GeoDataFrame(posters, geometry=geometry,crs='EPSG:4326' )\n",
    "\n",
    "posters_gdf = posters_gdf.to_crs(\"epsg:31370\")\n",
    "\n",
    "posters_gdf.head()\n",
    "\n"
   ]
  },
  {
   "cell_type": "code",
   "execution_count": null,
   "metadata": {},
   "outputs": [],
   "source": [
    "with open('./dummy/test_geo.geojson', 'r') as f:\n",
    "    gj = geojson.load(f)\n",
    "\n",
    "gj.is_valid\n",
    "\n",
    "gj\n"
   ]
  },
  {
   "cell_type": "code",
   "execution_count": null,
   "metadata": {},
   "outputs": [],
   "source": [
    "poi = gpd.read_file(\"./dummy/test_geo.geojson\",crs='EPSG:4326').set_index('name')\n",
    "poi = poi.to_crs(\"epsg:31370\")"
   ]
  },
  {
   "cell_type": "code",
   "execution_count": null,
   "metadata": {},
   "outputs": [],
   "source": [
    "dt = Polygon(gj['features'][0]['geometry']['coordinates'][0])\n",
    "dt_lon, dt_lat = gj['features'][0]['properties']['center']\n",
    "map = folium.Map(location=(dt_lat,dt_lon), tiles=\"cartodbpositron\", min_zoom=11)\n",
    "\n",
    "folium.Marker((dt_lat,dt_lon)).add_to(map)\n",
    "\n",
    "for index,row in posters_gdf.iterrows():\n",
    "    lon = row['longitude']\n",
    "    lat = row['latitude']\n",
    "    point = Point(lon,lat)\n",
    "\n",
    "    if point.within(dt) or point.touches(dt):\n",
    "        folium.Marker(location= [lat, lon],popup=index, icon= folium.Icon(color='red', icon='star') ).add_to(map)\n",
    "        folium.Circle([lat, lon],radius=300, color='red', fill_color = 'red').add_to(map)\n",
    "\n",
    "    else:\n",
    "        folium.Marker(location= [lat, lon],popup=index, icon= folium.Icon(color='cadetblue', icon='star') ).add_to(map)\n",
    "\n",
    "\n",
    "folium.features.GeoJson(gj).add_to(map)\n",
    "\n",
    "map"
   ]
  },
  {
   "cell_type": "code",
   "execution_count": null,
   "metadata": {},
   "outputs": [],
   "source": [
    "distances = posters_gdf.geometry.distance(poi.loc['Meir'].geometry.centroid)\n",
    "\n",
    "distances"
   ]
  },
  {
   "cell_type": "code",
   "execution_count": null,
   "metadata": {},
   "outputs": [],
   "source": [
    "buffer = posters_gdf.geometry.buffer(300)\n",
    "print(type(buffer))\n",
    "buffer.crs\n",
    "\n",
    "posters_gdf.head(50)\n"
   ]
  },
  {
   "cell_type": "code",
   "execution_count": null,
   "metadata": {},
   "outputs": [],
   "source": [
    "buffer_union = buffer.geometry.unary_union\n",
    "buffer_union"
   ]
  },
  {
   "cell_type": "code",
   "execution_count": null,
   "metadata": {},
   "outputs": [],
   "source": [
    "buffer = gpd.GeoSeries(buffer_union, crs=\"epsg:31370\")\n",
    "buffer = buffer.explode(index_parts=True)\n",
    "\n",
    "uuid_list = [uuid.uuid4() for _ in range(len(buffer))]\n",
    "\n",
    "buffer.index = uuid_list\n",
    "\n",
    "buffer.head()\n",
    "\n",
    "# folium.features.GeoJson(buffer.to_crs(epsg=4324)).add_to(map)\n",
    "\n",
    "# map"
   ]
  },
  {
   "cell_type": "code",
   "execution_count": null,
   "metadata": {},
   "outputs": [],
   "source": [
    "# for index, row in buffer.items():\n",
    "#     print(index[1])\n",
    "\n",
    "def get_buffer_id(point):\n",
    "    for index, row in buffer.items():\n",
    "        if point.within(row):\n",
    "            return index\n",
    "\n",
    "posters_gdf['buffer_id'] = posters_gdf['geometry'].apply(lambda x : get_buffer_id(x))\n",
    "\n",
    "posters_gdf"
   ]
  },
  {
   "cell_type": "code",
   "execution_count": null,
   "metadata": {},
   "outputs": [],
   "source": [
    "buffer.loc[(0,3)].centroid"
   ]
  },
  {
   "cell_type": "code",
   "execution_count": null,
   "metadata": {},
   "outputs": [],
   "source": [
    "# for each buffer_id\n",
    "# get a sub posters_gdf containing only the rows that contain same buffer_id\n",
    "# calculate distance to centroid, and eliminate panel from group\n",
    "# do this until buffers contain only one point\n",
    "\n",
    "for index, row in buffer.items():\n",
    "    sub_gdf = posters_gdf.loc[posters_gdf['buffer_id'] == index]\n",
    "    if len(sub_gdf) > 1:\n",
    "        dist_to_centroid = sub_gdf.geometry.distance(row.centroid)\n",
    "        print(dist_to_centroid.idxmin())"
   ]
  }
 ],
 "metadata": {
  "kernelspec": {
   "display_name": "Python 3",
   "language": "python",
   "name": "python3"
  },
  "language_info": {
   "codemirror_mode": {
    "name": "ipython",
    "version": 3
   },
   "file_extension": ".py",
   "mimetype": "text/x-python",
   "name": "python",
   "nbconvert_exporter": "python",
   "pygments_lexer": "ipython3",
   "version": "3.10.9"
  },
  "orig_nbformat": 4,
  "vscode": {
   "interpreter": {
    "hash": "b0fa6594d8f4cbf19f97940f81e996739fb7646882a419484c72d19e05852a7e"
   }
  }
 },
 "nbformat": 4,
 "nbformat_minor": 2
}
